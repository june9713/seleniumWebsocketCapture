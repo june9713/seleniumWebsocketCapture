{
 "cells": [
  {
   "cell_type": "code",
   "execution_count": 6,
   "source": [
    "from selenium import webdriver\r\n",
    "import sys\r\n",
    "import  time\r\n",
    "from selenium.webdriver.common.desired_capabilities import DesiredCapabilities\r\n",
    "from selenium.webdriver.chrome.options import Options\r\n",
    "import os\r\n",
    "import json\r\n",
    "\r\n",
    "chrm_options=Options()\r\n",
    "chrm_caps = webdriver.DesiredCapabilities.CHROME.copy()\r\n",
    "chrm_caps['goog:loggingPrefs'] = { 'performance':'ALL' }\r\n",
    "driver = webdriver.Chrome(executable_path = 'chromedriver.exe', chrome_options=chrm_options,desired_capabilities=chrm_caps) #Windows\r\n",
    "#driver = webdriver.Chrome(executable_path = './chromedriver.exe', chrome_options=chrm_options,desired_capabilities=chrm_caps) #Linux"
   ],
   "outputs": [
    {
     "output_type": "stream",
     "name": "stderr",
     "text": [
      "C:\\Users\\ADMINI~1\\AppData\\Local\\Temp/ipykernel_12420/200916559.py:12: DeprecationWarning: executable_path has been deprecated, please pass in a Service object\n",
      "  driver = webdriver.Chrome(executable_path = 'chromedriver.exe', chrome_options=chrm_options,desired_capabilities=chrm_caps) #Windows\n",
      "C:\\Users\\ADMINI~1\\AppData\\Local\\Temp/ipykernel_12420/200916559.py:12: DeprecationWarning: use options instead of chrome_options\n",
      "  driver = webdriver.Chrome(executable_path = 'chromedriver.exe', chrome_options=chrm_options,desired_capabilities=chrm_caps) #Windows\n"
     ]
    }
   ],
   "metadata": {}
  },
  {
   "cell_type": "code",
   "execution_count": 30,
   "source": [
    "\r\n",
    "def LoadWebDriver() :\r\n",
    "    print(\"Web driver Init \")\r\n",
    "    base_url = \"https://pocketoption.com/en/cabinet/demo-quick-high-low/#td\"  #Change the site\r\n",
    "    print('Loading URL ....')\r\n",
    "    driver.get(base_url )\r\n",
    "    \r\n",
    "import base64\r\n",
    "def WebSocketLog():\r\n",
    "    for wsData in driver.get_log('performance'):\r\n",
    "        #print(wsData) \r\n",
    "        wsJson = json.loads((wsData['message']))\r\n",
    "        #print(wsData)\r\n",
    "        if wsJson[\"message\"][\"method\"]== \"Network.webSocketFrameReceived\":\r\n",
    "            print (\"Rx :\"+ str(wsJson[\"message\"][\"params\"][\"timestamp\"]) , base64.b64decode(wsJson[\"message\"][\"params\"][\"response\"][\"payloadData\"]))\r\n",
    "        if wsJson[\"message\"][\"method\"] ==\"Network.webSocketFrameSent\":\r\n",
    "            print (\"Tx :\", base64.b64decode(wsJson[\"message\"][\"params\"][\"response\"][\"payloadData\"]))\r\n"
   ],
   "outputs": [],
   "metadata": {}
  },
  {
   "cell_type": "code",
   "execution_count": 8,
   "source": [
    "LoadWebDriver()\r\n",
    "print(\"Waiting\")\r\n",
    "time.sleep(30) #Capt"
   ],
   "outputs": [
    {
     "output_type": "stream",
     "name": "stdout",
     "text": [
      "Web driver Init \n",
      "Loading URL ....\n",
      "Waiting\n"
     ]
    }
   ],
   "metadata": {}
  },
  {
   "cell_type": "code",
   "execution_count": 31,
   "source": [
    "WebSocketLog()"
   ],
   "outputs": [
    {
     "output_type": "error",
     "ename": "TypeError",
     "evalue": "can only concatenate str (not \"bytes\") to str",
     "traceback": [
      "\u001b[1;31m---------------------------------------------------------------------------\u001b[0m",
      "\u001b[1;31mTypeError\u001b[0m                                 Traceback (most recent call last)",
      "\u001b[1;32mC:\\Users\\ADMINI~1\\AppData\\Local\\Temp/ipykernel_12420/1601169472.py\u001b[0m in \u001b[0;36m<module>\u001b[1;34m\u001b[0m\n\u001b[1;32m----> 1\u001b[1;33m \u001b[0mWebSocketLog\u001b[0m\u001b[1;33m(\u001b[0m\u001b[1;33m)\u001b[0m\u001b[1;33m\u001b[0m\u001b[1;33m\u001b[0m\u001b[0m\n\u001b[0m",
      "\u001b[1;32mC:\\Users\\ADMINI~1\\AppData\\Local\\Temp/ipykernel_12420/450975723.py\u001b[0m in \u001b[0;36mWebSocketLog\u001b[1;34m()\u001b[0m\n\u001b[0;32m     14\u001b[0m             \u001b[0mprint\u001b[0m \u001b[1;33m(\u001b[0m\u001b[1;34m\"Rx :\"\u001b[0m\u001b[1;33m+\u001b[0m \u001b[0mstr\u001b[0m\u001b[1;33m(\u001b[0m\u001b[0mwsJson\u001b[0m\u001b[1;33m[\u001b[0m\u001b[1;34m\"message\"\u001b[0m\u001b[1;33m]\u001b[0m\u001b[1;33m[\u001b[0m\u001b[1;34m\"params\"\u001b[0m\u001b[1;33m]\u001b[0m\u001b[1;33m[\u001b[0m\u001b[1;34m\"timestamp\"\u001b[0m\u001b[1;33m]\u001b[0m\u001b[1;33m)\u001b[0m \u001b[1;33m+\u001b[0m \u001b[0mbase64\u001b[0m\u001b[1;33m.\u001b[0m\u001b[0mb64decode\u001b[0m\u001b[1;33m(\u001b[0m\u001b[0mwsJson\u001b[0m\u001b[1;33m[\u001b[0m\u001b[1;34m\"message\"\u001b[0m\u001b[1;33m]\u001b[0m\u001b[1;33m[\u001b[0m\u001b[1;34m\"params\"\u001b[0m\u001b[1;33m]\u001b[0m\u001b[1;33m[\u001b[0m\u001b[1;34m\"response\"\u001b[0m\u001b[1;33m]\u001b[0m\u001b[1;33m[\u001b[0m\u001b[1;34m\"payloadData\"\u001b[0m\u001b[1;33m]\u001b[0m\u001b[1;33m)\u001b[0m\u001b[1;33m)\u001b[0m\u001b[1;33m\u001b[0m\u001b[1;33m\u001b[0m\u001b[0m\n\u001b[0;32m     15\u001b[0m         \u001b[1;32mif\u001b[0m \u001b[0mwsJson\u001b[0m\u001b[1;33m[\u001b[0m\u001b[1;34m\"message\"\u001b[0m\u001b[1;33m]\u001b[0m\u001b[1;33m[\u001b[0m\u001b[1;34m\"method\"\u001b[0m\u001b[1;33m]\u001b[0m \u001b[1;33m==\u001b[0m\u001b[1;34m\"Network.webSocketFrameSent\"\u001b[0m\u001b[1;33m:\u001b[0m\u001b[1;33m\u001b[0m\u001b[1;33m\u001b[0m\u001b[0m\n\u001b[1;32m---> 16\u001b[1;33m             \u001b[0mprint\u001b[0m \u001b[1;33m(\u001b[0m\u001b[1;34m\"Tx :\"\u001b[0m\u001b[1;33m+\u001b[0m \u001b[0mbase64\u001b[0m\u001b[1;33m.\u001b[0m\u001b[0mb64decode\u001b[0m\u001b[1;33m(\u001b[0m\u001b[0mwsJson\u001b[0m\u001b[1;33m[\u001b[0m\u001b[1;34m\"message\"\u001b[0m\u001b[1;33m]\u001b[0m\u001b[1;33m[\u001b[0m\u001b[1;34m\"params\"\u001b[0m\u001b[1;33m]\u001b[0m\u001b[1;33m[\u001b[0m\u001b[1;34m\"response\"\u001b[0m\u001b[1;33m]\u001b[0m\u001b[1;33m[\u001b[0m\u001b[1;34m\"payloadData\"\u001b[0m\u001b[1;33m]\u001b[0m\u001b[1;33m)\u001b[0m\u001b[1;33m)\u001b[0m\u001b[1;33m\u001b[0m\u001b[1;33m\u001b[0m\u001b[0m\n\u001b[0m",
      "\u001b[1;31mTypeError\u001b[0m: can only concatenate str (not \"bytes\") to str"
     ]
    }
   ],
   "metadata": {}
  },
  {
   "cell_type": "code",
   "execution_count": 5,
   "source": [
    "driver.quit()"
   ],
   "outputs": [],
   "metadata": {}
  },
  {
   "cell_type": "code",
   "execution_count": 28,
   "source": [
    "import base64"
   ],
   "outputs": [],
   "metadata": {}
  },
  {
   "cell_type": "code",
   "execution_count": 29,
   "source": [
    "base64.b64decode('gACAEgADAAFjAgEAAWEDAA0AAXASAAMAAWMIAAlQSU5HX1BPTkcAAXIE/////wABcBIABAAEZGF0YRIAAAACaWQEAAAABQAEaGFzaAgAIGNhNDJjM2I3OTFjMGQwNmVmNjY5NDgzNDZhMmRlZDNiAAl0aW1lc3RhbXAFAAA6AGk5XcA=')"
   ],
   "outputs": [
    {
     "output_type": "execute_result",
     "data": {
      "text/plain": [
       "b'\\x80\\x00\\x80\\x12\\x00\\x03\\x00\\x01c\\x02\\x01\\x00\\x01a\\x03\\x00\\r\\x00\\x01p\\x12\\x00\\x03\\x00\\x01c\\x08\\x00\\tPING_PONG\\x00\\x01r\\x04\\xff\\xff\\xff\\xff\\x00\\x01p\\x12\\x00\\x04\\x00\\x04data\\x12\\x00\\x00\\x00\\x02id\\x04\\x00\\x00\\x00\\x05\\x00\\x04hash\\x08\\x00 ca42c3b791c0d06ef66948346a2ded3b\\x00\\ttimestamp\\x05\\x00\\x00:\\x00i9]\\xc0'"
      ]
     },
     "metadata": {},
     "execution_count": 29
    }
   ],
   "metadata": {}
  },
  {
   "cell_type": "code",
   "execution_count": null,
   "source": [],
   "outputs": [],
   "metadata": {}
  }
 ],
 "metadata": {
  "orig_nbformat": 4,
  "language_info": {
   "name": "python",
   "version": "3.8.11",
   "mimetype": "text/x-python",
   "codemirror_mode": {
    "name": "ipython",
    "version": 3
   },
   "pygments_lexer": "ipython3",
   "nbconvert_exporter": "python",
   "file_extension": ".py"
  },
  "kernelspec": {
   "name": "python3",
   "display_name": "Python 3.8.11 64-bit ('py382': conda)"
  },
  "interpreter": {
   "hash": "c7bcb5781954786268d66b5ec837f4fc1cff88812bb23a44c8cb860853184759"
  }
 },
 "nbformat": 4,
 "nbformat_minor": 2
}